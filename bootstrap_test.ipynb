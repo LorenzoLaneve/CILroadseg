{
 "cells": [
  {
   "cell_type": "code",
   "execution_count": 1,
   "metadata": {},
   "outputs": [
    {
     "name": "stderr",
     "output_type": "stream",
     "text": [
      "Using TensorFlow backend.\n"
     ]
    }
   ],
   "source": [
    "import numpy as np\n",
    "import os\n",
    "import glob\n",
    "import matplotlib.image as mpimg\n",
    "from PIL import Image\n",
    "\n",
    "from resnet import batch_generator\n",
    "from decomposer import Decomposer\n",
    "\n",
    "from util.model_base import ModelBase\n",
    "from util.helpers import *\n",
    "from util.visualize import *\n",
    "from util.cross_validation import cross_validate"
   ]
  },
  {
   "cell_type": "code",
   "execution_count": 2,
   "metadata": {},
   "outputs": [
    {
     "name": "stdout",
     "output_type": "stream",
     "text": [
      "Loading training input... done (100 images).\n",
      "Loading training groundtruth... done (100 images).\n",
      "\n",
      "(100, 400, 400, 3)\n",
      "(100, 400, 400)\n"
     ]
    }
   ],
   "source": [
    "image_dir = \"training/images/\"\n",
    "gt_dir = \"training/groundtruth/\"\n",
    "\n",
    "print(\"Loading training input... \", end = '')\n",
    "X = [np.asarray(load_image((image_dir + file))) for file in os.listdir(image_dir)]\n",
    "print(\"done (\" + str(len(X)) + \" images).\")\n",
    "X = np.array(X)\n",
    "\n",
    "print(\"Loading training groundtruth... \", end = '')\n",
    "Y = [np.asarray(load_image((gt_dir + file))) for file in os.listdir(gt_dir)]\n",
    "print(\"done (\" + str(len(Y)) + \" images).\")\n",
    "Y = (np.array(Y) >= 0.21) * 1 # compensates for lossy image data\n",
    "\n",
    "print()\n",
    "print(X.shape)\n",
    "print(Y.shape)"
   ]
  },
  {
   "cell_type": "code",
   "execution_count": 3,
   "metadata": {},
   "outputs": [],
   "source": [
    "class DecomposerTester(ModelBase):\n",
    "\n",
    "    def __init__(self, bootstrap_path):\n",
    "        self.bootstrap_path = bootstrap_path\n",
    "\n",
    "    def train_online(self, generator):\n",
    "        batch_gen = batch_generator(generator)\n",
    "        \n",
    "        X_batch, Z = next(batch_gen)\n",
    "        Z = (Z[:, 0] < Z[:, 1]) * 1\n",
    "        \n",
    "        print(\"Created batch of shape \"+ str(X_batch.shape) + \" with groundtruth \"+ str(Z.shape))\n",
    "        \n",
    "        files = glob.glob(r''+ self.bootstrap_path +'/*')\n",
    "        for items in files:\n",
    "            os.remove(items)\n",
    "        \n",
    "        for i in range(X.shape[0]):\n",
    "            save_image(X_batch[i], self.bootstrap_path + \"bs\"+ str(i) +\"_c\"+ str(Z[i]) +\".png\")\n",
    "        \n",
    "    def classify(self, X):\n",
    "        num_of_img = X.shape[0]\n",
    "        img_size = (X.shape[1], X.shape[2])\n",
    "        \n",
    "        print(\"classifying X with shape = \"+ str(X.shape))\n",
    "        assert img_size == (72, 72) and X.shape[3] == 3, \"Wrong shape during classification.\"\n",
    "\n",
    "        Y = np.zeros(X.shape[0])\n",
    "        print(\"returning Y with shape = \"+ str(Y.shape))\n",
    "        return Y"
   ]
  },
  {
   "cell_type": "code",
   "execution_count": 4,
   "metadata": {},
   "outputs": [
    {
     "name": "stdout",
     "output_type": "stream",
     "text": [
      "Created batch of shape (250, 72, 72, 3) with groundtruth (250,)\n",
      "classifying X with shape = (62500, 72, 72, 3)\n",
      "returning Y with shape = (62500,)\n"
     ]
    }
   ],
   "source": [
    "bootstrap_path = \"training/bootstrap/\"\n",
    "\n",
    "model = Decomposer(DecomposerTester(bootstrap_path))\n",
    "\n",
    "model.initialize()\n",
    "model.train(Y, X)\n",
    "Y_pred = model.classify(X)"
   ]
  }
 ],
 "metadata": {
  "kernelspec": {
   "display_name": "Python 3",
   "language": "python",
   "name": "python3"
  },
  "language_info": {
   "codemirror_mode": {
    "name": "ipython",
    "version": 3
   },
   "file_extension": ".py",
   "mimetype": "text/x-python",
   "name": "python",
   "nbconvert_exporter": "python",
   "pygments_lexer": "ipython3",
   "version": "3.7.4"
  }
 },
 "nbformat": 4,
 "nbformat_minor": 4
}
