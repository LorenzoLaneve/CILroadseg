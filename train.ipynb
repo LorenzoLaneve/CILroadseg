{
 "cells": [
  {
   "cell_type": "code",
   "execution_count": null,
   "metadata": {
    "colab": {
     "base_uri": "https://localhost:8080/",
     "height": 34
    },
    "colab_type": "code",
    "id": "1uw9GDoh-iLo",
    "outputId": "9350e30b-ae78-4577-c0ae-ab9b5bc081be"
   },
   "outputs": [],
   "source": [
    "try:\n",
    "    from google.colab import drive\n",
    "    \n",
    "    print('Colab environment detected. Mounting drive...')\n",
    "    drive.mount('/content/drive')\n",
    "\n",
    "    print('Mounted. Switching to directory...')\n",
    "    %cd /content/drive/'My Drive'/CILroadseg\n",
    "except:\n",
    "    print('Colab environment not found. Working on ordinary directory.')"
   ]
  },
  {
   "cell_type": "code",
   "execution_count": null,
   "metadata": {},
   "outputs": [],
   "source": [
    "import numpy as np\n",
    "import os\n",
    "import matplotlib.image as mpimg\n",
    "\n",
    "from util.helpers import *\n",
    "from util.visualize import *\n",
    "from util.cross_validation import cross_validate"
   ]
  },
  {
   "cell_type": "markdown",
   "metadata": {},
   "source": [
    "## Loading Training and Test Data"
   ]
  },
  {
   "cell_type": "code",
   "execution_count": null,
   "metadata": {},
   "outputs": [],
   "source": [
    "image_dir = \"training/images/\"\n",
    "gt_dir = \"training/groundtruth/\"\n",
    "test_dir = \"test/images/\"\n",
    "\n",
    "print(\"Loading training input... \", end = '')\n",
    "X = [np.asarray(load_image((image_dir + file))) for file in os.listdir(image_dir)]\n",
    "print(\"done (\" + str(len(X)) + \" images).\")\n",
    "X = np.array(X)\n",
    "\n",
    "print(\"Loading training groundtruth... \", end = '')\n",
    "Y = [np.asarray(load_image((gt_dir + file))) for file in os.listdir(gt_dir)]\n",
    "print(\"done (\" + str(len(Y)) + \" images).\")\n",
    "Y = (np.array(Y) >= 0.21) * 1 # compensates for lossy image data\n",
    "\n",
    "print(\"Loading test input... \", end = '')\n",
    "X_test = [np.asarray(load_image((test_dir + file))) for file in os.listdir(test_dir)]\n",
    "print(\"done (\" + str(len(X_test)) + \" images).\")\n",
    "X_test = np.array(X_test)\n",
    "\n",
    "\n",
    "print()\n",
    "print(X.shape)\n",
    "print(Y.shape)\n",
    "print(X_test.shape)"
   ]
  },
  {
   "cell_type": "markdown",
   "metadata": {},
   "source": [
    "## Decomposer + ResNet"
   ]
  },
  {
   "cell_type": "code",
   "execution_count": null,
   "metadata": {},
   "outputs": [],
   "source": [
    "import tensorflow as tf\n",
    "from tensorflow import keras\n",
    "\n",
    "from decomposer import *\n",
    "from resnet import *"
   ]
  },
  {
   "cell_type": "code",
   "execution_count": null,
   "metadata": {},
   "outputs": [],
   "source": [
    "model = Decomposer(ResnetModel())\n",
    "model.initialize()\n",
    "\n",
    "# cross_validate(model, 4, images, labeled_images)"
   ]
  },
  {
   "cell_type": "code",
   "execution_count": null,
   "metadata": {},
   "outputs": [],
   "source": [
    "np.random.seed(1) #fix randomness\n",
    "\n",
    "model.train(Y, X)"
   ]
  },
  {
   "cell_type": "code",
   "execution_count": null,
   "metadata": {},
   "outputs": [],
   "source": [
    "weights_path = \"saves/final/resnet.h5\"\n",
    "\n",
    "print(\"[Target file: \"+ weights_path +\"]\")\n",
    "print(\"Saving model to disk...\", end = '')\n",
    "model.save(weights_path)\n",
    "print(\"done.\")"
   ]
  },
  {
   "cell_type": "code",
   "execution_count": null,
   "metadata": {
    "colab": {},
    "colab_type": "code",
    "id": "5C5PHZKP9bKi"
   },
   "outputs": [],
   "source": [
    "Y_pred = model.classify(X_test)\n",
    "\n",
    "view_image_mask(X_test[4], Y_pred[4])"
   ]
  }
 ],
 "metadata": {
  "accelerator": "GPU",
  "colab": {
   "collapsed_sections": [],
   "name": "train .ipynb",
   "provenance": []
  },
  "kernelspec": {
   "display_name": "Python 3",
   "language": "python",
   "name": "python3"
  },
  "language_info": {
   "codemirror_mode": {
    "name": "ipython",
    "version": 3
   },
   "file_extension": ".py",
   "mimetype": "text/x-python",
   "name": "python",
   "nbconvert_exporter": "python",
   "pygments_lexer": "ipython3",
   "version": "3.7.4"
  }
 },
 "nbformat": 4,
 "nbformat_minor": 1
}
