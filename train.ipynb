{
 "cells": [
  {
   "cell_type": "code",
   "execution_count": 15,
   "metadata": {},
   "outputs": [],
   "source": [
    "import os\n",
    "import numpy as np\n",
    "from util import *\n",
    "from util.helpers import *\n",
    "from util.model_base import * \n",
    "import tensorflow as tf\n",
    "from tensorflow import keras\n",
    "\n",
    "# folder where we have the training set\n",
    "image_directory = os.path.join(\"training\", \"training\",\"images\")\n",
    "files = os.listdir(image_directory)\n",
    "n = len(files)\n",
    "for i in range(n):\n",
    "    images = np.asarray(load_image(os.path.join(image_directory, files[i])))\n",
    "\n",
    "labels_directory = os.path.join(\"training\", \"training\",\"groundtruth\")\n",
    "for i in range(n):\n",
    "    labeled_images = np.asarray(load_image(os.path.join(labels_directory, files[i])))\n",
    "\n",
    "# initialize model with constructor\n",
    "model = ModelBase()"
   ]
  },
  {
   "cell_type": "code",
   "execution_count": 16,
   "metadata": {},
   "outputs": [
    {
     "ename": "AttributeError",
     "evalue": "'ModelBase' object has no attribute 'summary'",
     "output_type": "error",
     "traceback": [
      "\u001b[0;31m---------------------------------------------------------------------------\u001b[0m",
      "\u001b[0;31mAttributeError\u001b[0m                            Traceback (most recent call last)",
      "\u001b[0;32m<ipython-input-16-6ea7bfb5f6d2>\u001b[0m in \u001b[0;36m<module>\u001b[0;34m\u001b[0m\n\u001b[1;32m      3\u001b[0m \u001b[0;34m\u001b[0m\u001b[0m\n\u001b[1;32m      4\u001b[0m \u001b[0;31m# prints the model\u001b[0m\u001b[0;34m\u001b[0m\u001b[0;34m\u001b[0m\u001b[0;34m\u001b[0m\u001b[0m\n\u001b[0;32m----> 5\u001b[0;31m \u001b[0mmodel\u001b[0m\u001b[0;34m.\u001b[0m\u001b[0msummary\u001b[0m\u001b[0;34m(\u001b[0m\u001b[0;34m)\u001b[0m\u001b[0;34m\u001b[0m\u001b[0;34m\u001b[0m\u001b[0m\n\u001b[0m\u001b[1;32m      6\u001b[0m \u001b[0;31m#images, and the ground truth\u001b[0m\u001b[0;34m\u001b[0m\u001b[0;34m\u001b[0m\u001b[0;34m\u001b[0m\u001b[0m\n\u001b[1;32m      7\u001b[0m \u001b[0mmodel\u001b[0m\u001b[0;34m.\u001b[0m\u001b[0mtrain\u001b[0m\u001b[0;34m(\u001b[0m\u001b[0mimages\u001b[0m\u001b[0;34m,\u001b[0m\u001b[0mlabeled_images\u001b[0m\u001b[0;34m)\u001b[0m\u001b[0;34m\u001b[0m\u001b[0;34m\u001b[0m\u001b[0m\n",
      "\u001b[0;31mAttributeError\u001b[0m: 'ModelBase' object has no attribute 'summary'"
     ]
    }
   ],
   "source": [
    "# if we run a second time,  we obtain the same result \n",
    "np.random.seed(1) \n",
    "\n",
    "# prints the model \n",
    "model.summary()\n",
    "#images, and the ground truth\n",
    "model.train(images,labeled_images)"
   ]
  },
  {
   "cell_type": "code",
   "execution_count": 7,
   "metadata": {},
   "outputs": [
    {
     "name": "stdout",
     "output_type": "stream",
     "text": [
      "saves/weights_saved.h5\n",
      "Saved model to disk\n"
     ]
    }
   ],
   "source": [
    "# deep learning models can take weeks to train, it is important to save and load them from disk (save the weights to hdf5)\n",
    "weights_path = os.path.join(\"saves\", \"weights_saved\")\n",
    "print(weights_path + \".h5\")\n",
    "model.save(weights_path)\n",
    "print(\"Saved model to disk\")"
   ]
  },
  {
   "cell_type": "code",
   "execution_count": 76,
   "metadata": {},
   "outputs": [],
   "source": [
    "#TODO: implement\n",
    "# model.train\n",
    "# model.save\n",
    "# model.summary"
   ]
  }
 ],
 "metadata": {
  "kernelspec": {
   "display_name": "Python 3",
   "language": "python",
   "name": "python3"
  },
  "language_info": {
   "codemirror_mode": {
    "name": "ipython",
    "version": 3
   },
   "file_extension": ".py",
   "mimetype": "text/x-python",
   "name": "python",
   "nbconvert_exporter": "python",
   "pygments_lexer": "ipython3",
   "version": "3.8.2"
  }
 },
 "nbformat": 4,
 "nbformat_minor": 4
}
