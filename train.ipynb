{
  "nbformat": 4,
  "nbformat_minor": 0,
  "metadata": {
    "accelerator": "GPU",
    "colab": {
      "name": "train.ipynb",
      "provenance": [],
      "collapsed_sections": []
    },
    "kernelspec": {
      "display_name": "Python 3",
      "language": "python",
      "name": "python3"
    },
    "language_info": {
      "codemirror_mode": {
        "name": "ipython",
        "version": 3
      },
      "file_extension": ".py",
      "mimetype": "text/x-python",
      "name": "python",
      "nbconvert_exporter": "python",
      "pygments_lexer": "ipython3",
      "version": "3.7.4"
    }
  },
  "cells": [
    {
      "cell_type": "code",
      "metadata": {
        "colab_type": "code",
        "id": "1uw9GDoh-iLo",
        "outputId": "dfc243c8-08f4-4cdb-cc7a-b86c5c15c360",
        "colab": {
          "base_uri": "https://localhost:8080/",
          "height": 68
        }
      },
      "source": [
        "    dir = 'CILroadseg'\n",
        "    try:\n",
        "        from google.colab import drive\n",
        "\n",
        "        print('Colab environment detected. Mounting drive...')\n",
        "        drive.mount('/content/drive')\n",
        "\n",
        "        print('Mounted. Switching to directory... ', end = '')\n",
        "        os.chdir('/content/drive/''My Drive''/'+ dir)\n",
        "        print('done.')\n",
        "    except:\n",
        "        print('Colab environment not found. Working on ordinary directory.')"
      ],
      "execution_count": 20,
      "outputs": [
        {
          "output_type": "stream",
          "text": [
            "Colab environment detected. Mounting drive...\n",
            "Drive already mounted at /content/drive; to attempt to forcibly remount, call drive.mount(\"/content/drive\", force_remount=True).\n",
            "Mounted. Switching to directory... done.\n"
          ],
          "name": "stdout"
        }
      ]
    },
    {
      "cell_type": "code",
      "metadata": {
        "id": "0DFhJYFbzlSH",
        "colab_type": "code",
        "colab": {}
      },
      "source": [
        "import numpy as np\n",
        "import sys\n",
        "import os\n",
        "import matplotlib.image as mpimg\n",
        "\n",
        "from util.submit import *\n",
        "from util.helpers import *\n",
        "from util.visualize import *\n",
        "from util.cross_validation import cross_validate"
      ],
      "execution_count": 0,
      "outputs": []
    },
    {
      "cell_type": "markdown",
      "metadata": {
        "id": "g3z8-TugzlSK",
        "colab_type": "text"
      },
      "source": [
        "## Loading Training Data"
      ]
    },
    {
      "cell_type": "code",
      "metadata": {
        "id": "R3FcceoMzlSL",
        "colab_type": "code",
        "outputId": "0b9d5d6e-7214-407f-df73-87fb5d5cda14",
        "colab": {
          "base_uri": "https://localhost:8080/",
          "height": 187
        }
      },
      "source": [
        "image_dir = \"training/images/\"\n",
        "gt_dir = \"training/groundtruth/\"\n",
        "test_dir = \"test/images/\"\n",
        "\n",
        "\n",
        "\n",
        "X = []\n",
        "Y = []\n",
        "X_test = []\n",
        "\n",
        "\n",
        "print(\"Loading training input...\")\n",
        "files = os.listdir(image_dir)\n",
        "numfiles = len(files)\n",
        "k = 0\n",
        "for file in files:\n",
        "  X.append(np.asarray(load_image((image_dir + file))))\n",
        "  k += 1\n",
        "\n",
        "  sys.stdout.write(\"\\rProgress: \"+ str(k * 100 // numfiles) +\"%\")\n",
        "\n",
        "print(\"\\rProgress: done (\" + str(len(X)) + \" images).\")\n",
        "X = np.array(X)\n",
        "\n",
        "print(\"Loading training groundtruth...\")\n",
        "files = os.listdir(gt_dir)\n",
        "numfiles = len(files)\n",
        "k = 0\n",
        "for file in files:\n",
        "  Y.append(np.asarray(load_image((gt_dir + file))))\n",
        "  k += 1\n",
        "\n",
        "  sys.stdout.write(\"\\rProgress: \"+ str(k * 100 // numfiles) +\"%\")\n",
        "\n",
        "print(\"\\rProgress: done (\" + str(len(Y)) + \" images).\")\n",
        "Y = (np.array(Y) >= 0.25) * 1 # compensates for lossy image data\n",
        "\n",
        "\n",
        "print(\"Loading test input...\")\n",
        "files = os.listdir(test_dir)\n",
        "numfiles = len(files)\n",
        "k = 0\n",
        "for file in files:\n",
        "  X_test.append(np.asarray(load_image((test_dir + file))))\n",
        "  k += 1\n",
        "\n",
        "  sys.stdout.write(\"\\rProgress: \"+ str(k * 100 // numfiles) +\"%\")\n",
        "\n",
        "print(\"\\rProgress: done (\" + str(len(X_test)) + \" images).\")\n",
        "X_test = np.array(X_test)\n",
        "\n",
        "\n",
        "print()\n",
        "print(\"       Training data shape: \" + str(X.shape))\n",
        "print(\"Training groundtruth shape: \" + str(Y.shape))\n",
        "print(\"           Test data shape: \" + str(X_test.shape))"
      ],
      "execution_count": 30,
      "outputs": [
        {
          "output_type": "stream",
          "text": [
            "Loading training input...\n",
            "Progress: done (100 images).\n",
            "Loading training groundtruth...\n",
            "Progress: done (100 images).\n",
            "Loading test input...\n",
            "Progress: done (94 images).\n",
            "\n",
            "       Training data shape: (100, 400, 400, 3)\n",
            "Training groundtruth shape: (100, 400, 400)\n",
            "           Test data shape: (94, 608, 608, 3)\n"
          ],
          "name": "stdout"
        }
      ]
    },
    {
      "cell_type": "markdown",
      "metadata": {
        "id": "NelvP11czlSO",
        "colab_type": "text"
      },
      "source": [
        "## Decomposer + ResNet/CNN"
      ]
    },
    {
      "cell_type": "code",
      "metadata": {
        "id": "J1U5t-IEzlSP",
        "colab_type": "code",
        "colab": {}
      },
      "source": [
        "import tensorflow as tf\n",
        "from tensorflow import keras\n",
        "\n",
        "from decomposer import *\n",
        "from resnet import *\n",
        "from cnn import *"
      ],
      "execution_count": 0,
      "outputs": []
    },
    {
      "cell_type": "code",
      "metadata": {
        "id": "8VYuQhskzlSS",
        "colab_type": "code",
        "colab": {}
      },
      "source": [
        "model = Decomposer(CNNModel())"
      ],
      "execution_count": 0,
      "outputs": []
    },
    {
      "cell_type": "code",
      "metadata": {
        "id": "qXC8Ba620oIj",
        "colab_type": "code",
        "colab": {}
      },
      "source": [
        "choice = 'cv'\n",
        "\n",
        "np.random.seed(1) #fix randomness\n",
        "if choice = 'cv':\n",
        "  cross_validate(model, 4, X, Y)\n",
        "\n",
        "elif choice = 'tr':\n",
        "  model.initialize()\n",
        "  model.train(Y, X) \n",
        "\n",
        "else:\n",
        "  model.load(\"saves/final/cnn.h5\")"
      ],
      "execution_count": 0,
      "outputs": []
    },
    {
      "cell_type": "markdown",
      "metadata": {
        "id": "z48sHukBqqHh",
        "colab_type": "text"
      },
      "source": [
        "## Model Saving"
      ]
    },
    {
      "cell_type": "code",
      "metadata": {
        "id": "r7KDnWX2zlSZ",
        "colab_type": "code",
        "colab": {}
      },
      "source": [
        "weights_path = \"saves/final/cnn.h5\"\n",
        "\n",
        "print(\"[Target file: \"+ weights_path +\"]\")\n",
        "print(\"Saving model to disk...\", end = '')\n",
        "model.save(weights_path)\n",
        "print(\"done.\")"
      ],
      "execution_count": 0,
      "outputs": []
    },
    {
      "cell_type": "code",
      "metadata": {
        "colab_type": "code",
        "id": "5C5PHZKP9bKi",
        "colab": {}
      },
      "source": [
        "test_masks_path = \"test/pred/\"\n",
        "test_dir = \"test/images/\"\n",
        "\n",
        "print(\"Predicting test cases... \", end = '')\n",
        "for file in os.listdir(test_dir):\n",
        "  img_id = int(re.search(r\"\\d+\", file).group(0))\n",
        "\n",
        "  X_test = np.array([np.asarray(load_image((test_dir + file)))])\n",
        "  Y_pred = model.classify(X_test)\n",
        "\n",
        "  save_image(np.repeat(Y_pred[0][:,:,np.newaxis], 3, axis=2), test_masks_path + \"mask_\"+ str(img_id) +\".png\")\n",
        "\n",
        "print(\"done.\")\n"
      ],
      "execution_count": 0,
      "outputs": []
    },
    {
      "cell_type": "code",
      "metadata": {
        "id": "eQQ7wKtmGOdM",
        "colab_type": "code",
        "colab": {}
      },
      "source": [
        "image_paths = [test_masks_path + file for file in os.listdir(test_masks_path)]\n",
        "\n",
        "masks_to_submission(\"test/subs/cnn.csv\", image_paths)"
      ],
      "execution_count": 0,
      "outputs": []
    },
    {
      "cell_type": "code",
      "metadata": {
        "id": "n1kABeXOnhxI",
        "colab_type": "code",
        "colab": {}
      },
      "source": [
        "test_dir = \"test/images/\"\n",
        "\n",
        "print(\"Loading test input... \", end = '')\n",
        "X_test = [np.asarray(load_image((test_dir + file))) for file in os.listdir(test_dir)]\n",
        "print(\"done (\" + str(len(X_test)) + \" images).\")\n",
        "X_test = np.array(X_test)"
      ],
      "execution_count": 0,
      "outputs": []
    },
    {
      "cell_type": "code",
      "metadata": {
        "id": "MiKljqBGpCkq",
        "colab_type": "code",
        "colab": {}
      },
      "source": [
        "Y_pred = model.classify(X_test[0:10])\n",
        "\n",
        "view_image_mask(X_test[4], Y_pred[4])"
      ],
      "execution_count": 0,
      "outputs": []
    }
  ]
}