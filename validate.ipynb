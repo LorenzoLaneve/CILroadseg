{
 "cells": [
  {
   "cell_type": "code",
   "execution_count": 8,
   "metadata": {},
   "outputs": [
    {
     "name": "stdout",
     "output_type": "stream",
     "text": [
      "training/training/images/satImage_052.png\n"
     ]
    }
   ],
   "source": [
    "import os\n",
    "import numpy as np\n",
    "from util import *\n",
    "from util.model_base import * \n",
    "import tensorflow as tf\n",
    "from tensorflow import keras\n",
    "\n",
    "# folder where we have the training set\n",
    "image_directory = os.path.join(\"training\", \"training\",\"images\")\n",
    "files = os.listdir(image_directory)\n",
    "n = len(files)\n",
    "images = np.asarray([load_image(os.path.join(image_directory, files[i])) for i in range(n)])\n",
    "\n",
    "labels_directory = os.path.join(\"training\", \"training\",\"groundtruth\")\n",
    "labeled_images = np.asarray([load_image(os.path.join(labels_directory,files[i])) for i in range(n)])\n",
    "\n",
    "# initialize model with constructor\n",
    "model = ModelBase()"
   ]
  },
  {
   "cell_type": "code",
   "execution_count": null,
   "metadata": {},
   "outputs": [],
   "source": [
    "np.random.seed(1)\n",
    "#random K to be chosen\n",
    "K = 3 \n",
    "cross_validate(model,K,images,labeled_images)\n"
   ]
  }
 ],
 "metadata": {
  "kernelspec": {
   "display_name": "Python 3",
   "language": "python",
   "name": "python3"
  },
  "language_info": {
   "codemirror_mode": {
    "name": "ipython",
    "version": 3
   },
   "file_extension": ".py",
   "mimetype": "text/x-python",
   "name": "python",
   "nbconvert_exporter": "python",
   "pygments_lexer": "ipython3",
   "version": "3.8.2"
  }
 },
 "nbformat": 4,
 "nbformat_minor": 4
}
