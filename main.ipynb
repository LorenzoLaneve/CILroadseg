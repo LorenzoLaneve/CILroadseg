{
 "cells": [
  {
   "cell_type": "code",
   "execution_count": 1,
   "metadata": {},
   "outputs": [
    {
     "name": "stderr",
     "output_type": "stream",
     "text": [
      "Using TensorFlow backend.\n"
     ]
    }
   ],
   "source": [
    "import numpy as np\n",
    "import os\n",
    "import matplotlib.image as mpimg\n",
    "\n",
    "from util.helpers import *\n",
    "from PIL import ImageFile\n",
    "from keras.preprocessing.image import img_to_array, array_to_img\n",
    "\n",
    "import util.cross_validation\n",
    "from util.cross_validation import cross_validate"
   ]
  },
  {
   "cell_type": "markdown",
   "metadata": {},
   "source": [
    "### Load Training Images and Groundtruth versions"
   ]
  },
  {
   "cell_type": "code",
   "execution_count": 2,
   "metadata": {
    "scrolled": false
   },
   "outputs": [
    {
     "name": "stdout",
     "output_type": "stream",
     "text": [
      "Loading training input... done (100 images).\n",
      "Loading training groundtruth... done (100 images).\n",
      "\n",
      "(100, 400, 400, 3)\n",
      "(100, 400, 400)\n"
     ]
    }
   ],
   "source": [
    "# Load the training set\n",
    "\n",
    "image_dir = \"training/images/\"\n",
    "\n",
    "print(\"Loading training input... \", end = '')\n",
    "X = [np.asarray(load_image((image_dir + file))) for file in os.listdir(image_dir)]\n",
    "print(\"done (\" + str(len(X)) + \" images).\")\n",
    "X = np.array(X)\n",
    "\n",
    "gt_dir = \"training/groundtruth/\"\n",
    "print(\"Loading training groundtruth... \", end = '')\n",
    "Y = [np.asarray(load_image((gt_dir + file))) for file in os.listdir(gt_dir)]\n",
    "print(\"done (\" + str(len(Y)) + \" images).\")\n",
    "\n",
    "Y = (np.array(Y) >= 0.25) * 1\n",
    "# compensates for lossy image data\n",
    "\n",
    "print()\n",
    "print(X.shape)\n",
    "print(Y.shape)"
   ]
  },
  {
   "cell_type": "markdown",
   "metadata": {},
   "source": [
    "### Zero Classifier"
   ]
  },
  {
   "cell_type": "code",
   "execution_count": 4,
   "metadata": {
    "scrolled": true
   },
   "outputs": [
    {
     "name": "stdout",
     "output_type": "stream",
     "text": [
      "Fold #1: 0.76504\n",
      "Fold #2: 0.80802825\n",
      "Fold #3: 0.79014775\n",
      "Fold #4: 0.81782275\n",
      "\n",
      "Cross Validation done:\n",
      "[0.76504    0.80802825 0.79014775 0.81782275]\n",
      "AVG: 0.7952596875\n",
      "STD: 0.02007168026908107\n"
     ]
    }
   ],
   "source": [
    "from zero_classifier import ZeroClassifier\n",
    "model = ZeroClassifier()\n",
    "\n",
    "cross_validate(model, 4, X, Y) # 4 folds"
   ]
  },
  {
   "cell_type": "markdown",
   "metadata": {},
   "source": [
    "### Logistic Regression"
   ]
  },
  {
   "cell_type": "code",
   "execution_count": 3,
   "metadata": {},
   "outputs": [
    {
     "name": "stderr",
     "output_type": "stream",
     "text": [
      "/usr/local/lib/python3.7/site-packages/sklearn/linear_model/_logistic.py:940: ConvergenceWarning: lbfgs failed to converge (status=1):\n",
      "STOP: TOTAL NO. of ITERATIONS REACHED LIMIT.\n",
      "\n",
      "Increase the number of iterations (max_iter) or scale the data as shown in:\n",
      "    https://scikit-learn.org/stable/modules/preprocessing.html\n",
      "Please also refer to the documentation for alternative solver options:\n",
      "    https://scikit-learn.org/stable/modules/linear_model.html#logistic-regression\n",
      "  extra_warning_msg=_LOGISTIC_SOLVER_CONVERGENCE_MSG)\n"
     ]
    },
    {
     "name": "stdout",
     "output_type": "stream",
     "text": [
      "Fold #1: 0.695164\n"
     ]
    },
    {
     "name": "stderr",
     "output_type": "stream",
     "text": [
      "/usr/local/lib/python3.7/site-packages/sklearn/linear_model/_logistic.py:940: ConvergenceWarning: lbfgs failed to converge (status=1):\n",
      "STOP: TOTAL NO. of ITERATIONS REACHED LIMIT.\n",
      "\n",
      "Increase the number of iterations (max_iter) or scale the data as shown in:\n",
      "    https://scikit-learn.org/stable/modules/preprocessing.html\n",
      "Please also refer to the documentation for alternative solver options:\n",
      "    https://scikit-learn.org/stable/modules/linear_model.html#logistic-regression\n",
      "  extra_warning_msg=_LOGISTIC_SOLVER_CONVERGENCE_MSG)\n"
     ]
    },
    {
     "name": "stdout",
     "output_type": "stream",
     "text": [
      "Fold #2: 0.74282475\n"
     ]
    },
    {
     "name": "stderr",
     "output_type": "stream",
     "text": [
      "/usr/local/lib/python3.7/site-packages/sklearn/linear_model/_logistic.py:940: ConvergenceWarning: lbfgs failed to converge (status=1):\n",
      "STOP: TOTAL NO. of ITERATIONS REACHED LIMIT.\n",
      "\n",
      "Increase the number of iterations (max_iter) or scale the data as shown in:\n",
      "    https://scikit-learn.org/stable/modules/preprocessing.html\n",
      "Please also refer to the documentation for alternative solver options:\n",
      "    https://scikit-learn.org/stable/modules/linear_model.html#logistic-regression\n",
      "  extra_warning_msg=_LOGISTIC_SOLVER_CONVERGENCE_MSG)\n"
     ]
    },
    {
     "name": "stdout",
     "output_type": "stream",
     "text": [
      "Fold #3: 0.71004175\n"
     ]
    },
    {
     "name": "stderr",
     "output_type": "stream",
     "text": [
      "/usr/local/lib/python3.7/site-packages/sklearn/linear_model/_logistic.py:940: ConvergenceWarning: lbfgs failed to converge (status=1):\n",
      "STOP: TOTAL NO. of ITERATIONS REACHED LIMIT.\n",
      "\n",
      "Increase the number of iterations (max_iter) or scale the data as shown in:\n",
      "    https://scikit-learn.org/stable/modules/preprocessing.html\n",
      "Please also refer to the documentation for alternative solver options:\n",
      "    https://scikit-learn.org/stable/modules/linear_model.html#logistic-regression\n",
      "  extra_warning_msg=_LOGISTIC_SOLVER_CONVERGENCE_MSG)\n"
     ]
    },
    {
     "name": "stdout",
     "output_type": "stream",
     "text": [
      "Fold #4: 0.75264475\n",
      "\n",
      "Cross Validation done:\n",
      "[0.695164   0.74282475 0.71004175 0.75264475]\n",
      "AVG: 0.7251688125\n",
      "STD: 0.023429554325396767\n"
     ]
    }
   ],
   "source": [
    "from logistic_model import LogisticModel\n",
    "model = LogisticModel()\n",
    "\n",
    "cross_validate(model, 4, X, Y)"
   ]
  },
  {
   "cell_type": "markdown",
   "metadata": {},
   "source": [
    "### Naive CNN Model"
   ]
  },
  {
   "cell_type": "code",
   "execution_count": null,
   "metadata": {},
   "outputs": [],
   "source": [
    "from naive_cnn_model import NaiveCnnModel\n",
    "model = NaiveCnnModel()\n",
    "\n",
    "cross_validate(model, 4, X, Y)"
   ]
  },
  {
   "cell_type": "markdown",
   "metadata": {},
   "source": [
    "### SVM Model"
   ]
  },
  {
   "cell_type": "code",
   "execution_count": null,
   "metadata": {},
   "outputs": [],
   "source": [
    "from svm_model import SvmModel\n",
    "model = SvmModel()\n",
    "\n",
    "cross_validate(model, 4, X, Y)"
   ]
  },
  {
   "cell_type": "code",
   "execution_count": null,
   "metadata": {},
   "outputs": [],
   "source": [
    "\n",
    "cc = np.array([[[1, 2],[3, 4]], [[5, 6],[7, 8]]])\n",
    "print(cc)\n",
    "\n",
    "cc = np.repeat(cc, 4, axis=1)\n",
    "cc = np.repeat(cc, 4, axis=2)\n",
    "\n",
    "print(cc[:, 0:6, 0:6])\n"
   ]
  }
 ],
 "metadata": {
  "kernelspec": {
   "display_name": "Python 3",
   "language": "python",
   "name": "python3"
  },
  "language_info": {
   "codemirror_mode": {
    "name": "ipython",
    "version": 3
   },
   "file_extension": ".py",
   "mimetype": "text/x-python",
   "name": "python",
   "nbconvert_exporter": "python",
   "pygments_lexer": "ipython3",
   "version": "3.7.4"
  }
 },
 "nbformat": 4,
 "nbformat_minor": 4
}
