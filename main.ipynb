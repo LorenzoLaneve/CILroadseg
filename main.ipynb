{
 "cells": [
  {
   "cell_type": "code",
   "execution_count": 1,
   "metadata": {},
   "outputs": [
    {
     "name": "stderr",
     "output_type": "stream",
     "text": [
      "Using TensorFlow backend.\n"
     ]
    }
   ],
   "source": [
    "import numpy as np\n",
    "import os\n",
    "import matplotlib.image as mpimg\n",
    "\n",
    "from util.helpers import *\n",
    "from PIL import ImageFile\n",
    "from keras.preprocessing.image import img_to_array, array_to_img\n",
    "\n",
    "import util.cross_validation\n",
    "from util.cross_validation import cross_validate"
   ]
  },
  {
   "cell_type": "markdown",
   "metadata": {},
   "source": [
    "### Load Training Images and Groundtruth versions"
   ]
  },
  {
   "cell_type": "code",
   "execution_count": 2,
   "metadata": {
    "scrolled": false
   },
   "outputs": [
    {
     "name": "stdout",
     "output_type": "stream",
     "text": [
      "Loading training input... done (100 images).\n",
      "Loading training groundtruth... done (100 images).\n",
      "\n",
      "(100, 400, 400, 3)\n",
      "(100, 400, 400)\n"
     ]
    }
   ],
   "source": [
    "# Load the training set\n",
    "\n",
    "image_dir = \"training/images/\"\n",
    "\n",
    "print(\"Loading training input... \", end = '')\n",
    "X = [np.asarray(load_image((image_dir + file))) for file in os.listdir(image_dir)]\n",
    "print(\"done (\" + str(len(X)) + \" images).\")\n",
    "X = np.array(X)\n",
    "\n",
    "gt_dir = \"training/groundtruth/\"\n",
    "print(\"Loading training groundtruth... \", end = '')\n",
    "Y = [np.asarray(load_image((gt_dir + file))) for file in os.listdir(gt_dir)]\n",
    "print(\"done (\" + str(len(Y)) + \" images).\")\n",
    "\n",
    "Y = (np.array(Y) >= 0.25) * 1\n",
    "# compensates for lossy image data\n",
    "\n",
    "print()\n",
    "print(X.shape)\n",
    "print(Y.shape)"
   ]
  },
  {
   "cell_type": "markdown",
   "metadata": {},
   "source": [
    "### Zero Classifier"
   ]
  },
  {
   "cell_type": "code",
   "execution_count": null,
   "metadata": {
    "scrolled": true
   },
   "outputs": [],
   "source": [
    "# FIXME: image reconstruction from patches needed\n",
    "\n",
    "#from zero_classifier import ZeroClassifier\n",
    "#model = ZeroClassifier()\n",
    "\n",
    "#cross_validate(model, 4, X, Y) # 4 folds"
   ]
  },
  {
   "cell_type": "markdown",
   "metadata": {},
   "source": [
    "### Logistic Regression"
   ]
  },
  {
   "cell_type": "code",
   "execution_count": 3,
   "metadata": {},
   "outputs": [
    {
     "name": "stderr",
     "output_type": "stream",
     "text": [
      "/usr/local/lib/python3.7/site-packages/sklearn/linear_model/_logistic.py:940: ConvergenceWarning: lbfgs failed to converge (status=1):\n",
      "STOP: TOTAL NO. of ITERATIONS REACHED LIMIT.\n",
      "\n",
      "Increase the number of iterations (max_iter) or scale the data as shown in:\n",
      "    https://scikit-learn.org/stable/modules/preprocessing.html\n",
      "Please also refer to the documentation for alternative solver options:\n",
      "    https://scikit-learn.org/stable/modules/linear_model.html#logistic-regression\n",
      "  extra_warning_msg=_LOGISTIC_SOLVER_CONVERGENCE_MSG)\n"
     ]
    },
    {
     "name": "stdout",
     "output_type": "stream",
     "text": [
      "Fold #1: 0.759872\n"
     ]
    },
    {
     "name": "stderr",
     "output_type": "stream",
     "text": [
      "/usr/local/lib/python3.7/site-packages/sklearn/linear_model/_logistic.py:940: ConvergenceWarning: lbfgs failed to converge (status=1):\n",
      "STOP: TOTAL NO. of ITERATIONS REACHED LIMIT.\n",
      "\n",
      "Increase the number of iterations (max_iter) or scale the data as shown in:\n",
      "    https://scikit-learn.org/stable/modules/preprocessing.html\n",
      "Please also refer to the documentation for alternative solver options:\n",
      "    https://scikit-learn.org/stable/modules/linear_model.html#logistic-regression\n",
      "  extra_warning_msg=_LOGISTIC_SOLVER_CONVERGENCE_MSG)\n"
     ]
    },
    {
     "name": "stdout",
     "output_type": "stream",
     "text": [
      "Fold #2: 0.774976\n"
     ]
    },
    {
     "name": "stderr",
     "output_type": "stream",
     "text": [
      "/usr/local/lib/python3.7/site-packages/sklearn/linear_model/_logistic.py:940: ConvergenceWarning: lbfgs failed to converge (status=1):\n",
      "STOP: TOTAL NO. of ITERATIONS REACHED LIMIT.\n",
      "\n",
      "Increase the number of iterations (max_iter) or scale the data as shown in:\n",
      "    https://scikit-learn.org/stable/modules/preprocessing.html\n",
      "Please also refer to the documentation for alternative solver options:\n",
      "    https://scikit-learn.org/stable/modules/linear_model.html#logistic-regression\n",
      "  extra_warning_msg=_LOGISTIC_SOLVER_CONVERGENCE_MSG)\n"
     ]
    },
    {
     "name": "stdout",
     "output_type": "stream",
     "text": [
      "Fold #3: 0.778048\n"
     ]
    },
    {
     "name": "stderr",
     "output_type": "stream",
     "text": [
      "/usr/local/lib/python3.7/site-packages/sklearn/linear_model/_logistic.py:940: ConvergenceWarning: lbfgs failed to converge (status=1):\n",
      "STOP: TOTAL NO. of ITERATIONS REACHED LIMIT.\n",
      "\n",
      "Increase the number of iterations (max_iter) or scale the data as shown in:\n",
      "    https://scikit-learn.org/stable/modules/preprocessing.html\n",
      "Please also refer to the documentation for alternative solver options:\n",
      "    https://scikit-learn.org/stable/modules/linear_model.html#logistic-regression\n",
      "  extra_warning_msg=_LOGISTIC_SOLVER_CONVERGENCE_MSG)\n"
     ]
    },
    {
     "name": "stdout",
     "output_type": "stream",
     "text": [
      "Fold #4: 0.793344\n",
      "\n",
      "Cross Validation done:\n",
      "[0.759872 0.774976 0.778048 0.793344]\n",
      "AVG: 0.7765599999999999\n",
      "STD: 0.011883972399833334\n"
     ]
    }
   ],
   "source": [
    "from logistic_model import LogisticModel\n",
    "model = LogisticModel()\n",
    "\n",
    "cross_validate(model, 4, X, Y)"
   ]
  },
  {
   "cell_type": "markdown",
   "metadata": {},
   "source": [
    "### Naive CNN Model"
   ]
  },
  {
   "cell_type": "code",
   "execution_count": 3,
   "metadata": {},
   "outputs": [
    {
     "name": "stdout",
     "output_type": "stream",
     "text": [
      "Epoch 1/10\n",
      "61875/61875 [==============================] - 21s 341us/step - loss: 0.5373 - accuracy: 0.7397\n",
      "Epoch 2/10\n",
      "61875/61875 [==============================] - 19s 312us/step - loss: 0.5036 - accuracy: 0.7475\n",
      "Epoch 3/10\n",
      "61875/61875 [==============================] - 20s 330us/step - loss: 0.4763 - accuracy: 0.7647\n",
      "Epoch 4/10\n",
      "61875/61875 [==============================] - 19s 304us/step - loss: 0.4567 - accuracy: 0.7773\n",
      "Epoch 5/10\n",
      "61875/61875 [==============================] - 19s 300us/step - loss: 0.4490 - accuracy: 0.7794\n",
      "Epoch 6/10\n",
      "61875/61875 [==============================] - 19s 303us/step - loss: 0.4430 - accuracy: 0.7827\n",
      "Epoch 7/10\n",
      "61875/61875 [==============================] - 19s 311us/step - loss: 0.4391 - accuracy: 0.7856\n",
      "Epoch 8/10\n",
      "61875/61875 [==============================] - 20s 328us/step - loss: 0.4339 - accuracy: 0.7890\n",
      "Epoch 9/10\n",
      "61875/61875 [==============================] - 19s 305us/step - loss: 0.4319 - accuracy: 0.7900\n",
      "Epoch 10/10\n",
      "61875/61875 [==============================] - 25s 402us/step - loss: 0.4315 - accuracy: 0.7898\n",
      "Fold #1: 0.788928\n",
      "Epoch 1/10\n",
      "61875/61875 [==============================] - 20s 323us/step - loss: 0.5485 - accuracy: 0.7385\n",
      "Epoch 2/10\n",
      "61875/61875 [==============================] - 20s 320us/step - loss: 0.5008 - accuracy: 0.7462\n",
      "Epoch 3/10\n",
      "61875/61875 [==============================] - 20s 324us/step - loss: 0.4661 - accuracy: 0.7715\n",
      "Epoch 4/10\n",
      "61875/61875 [==============================] - 20s 322us/step - loss: 0.4593 - accuracy: 0.7764\n",
      "Epoch 5/10\n",
      "61875/61875 [==============================] - 21s 332us/step - loss: 0.4518 - accuracy: 0.7798\n",
      "Epoch 6/10\n",
      "61875/61875 [==============================] - 20s 317us/step - loss: 0.4464 - accuracy: 0.7818\n",
      "Epoch 7/10\n",
      "61875/61875 [==============================] - 19s 302us/step - loss: 0.4438 - accuracy: 0.7852\n",
      "Epoch 8/10\n",
      "61875/61875 [==============================] - 19s 310us/step - loss: 0.4394 - accuracy: 0.7864\n",
      "Epoch 9/10\n",
      "61875/61875 [==============================] - 19s 307us/step - loss: 0.4359 - accuracy: 0.7884\n",
      "Epoch 10/10\n",
      "61875/61875 [==============================] - 20s 321us/step - loss: 0.4324 - accuracy: 0.7910\n",
      "Fold #2: 0.786048\n",
      "Epoch 1/10\n",
      "61875/61875 [==============================] - 24s 393us/step - loss: 0.5425 - accuracy: 0.7388\n",
      "Epoch 2/10\n",
      "61875/61875 [==============================] - 20s 322us/step - loss: 0.5003 - accuracy: 0.7460\n",
      "Epoch 3/10\n",
      "61875/61875 [==============================] - 19s 303us/step - loss: 0.4944 - accuracy: 0.7524\n",
      "Epoch 4/10\n",
      "61875/61875 [==============================] - 20s 322us/step - loss: 0.4692 - accuracy: 0.7646\n",
      "Epoch 5/10\n",
      "61875/61875 [==============================] - 27s 437us/step - loss: 0.4536 - accuracy: 0.7761\n",
      "Epoch 6/10\n",
      "61875/61875 [==============================] - 20s 323us/step - loss: 0.4469 - accuracy: 0.7804\n",
      "Epoch 7/10\n",
      "61875/61875 [==============================] - 26s 413us/step - loss: 0.4429 - accuracy: 0.7851\n",
      "Epoch 8/10\n",
      "61875/61875 [==============================] - 25s 403us/step - loss: 0.4363 - accuracy: 0.7879\n",
      "Epoch 9/10\n",
      "61875/61875 [==============================] - 24s 388us/step - loss: 0.4362 - accuracy: 0.7883\n",
      "Epoch 10/10\n",
      "61875/61875 [==============================] - 21s 336us/step - loss: 0.4324 - accuracy: 0.7903\n",
      "Fold #3: 0.788032\n",
      "Epoch 1/10\n",
      "61875/61875 [==============================] - 21s 333us/step - loss: 0.5478 - accuracy: 0.7367\n",
      "Epoch 2/10\n",
      "61875/61875 [==============================] - 21s 340us/step - loss: 0.5059 - accuracy: 0.7449\n",
      "Epoch 3/10\n",
      "61875/61875 [==============================] - 22s 362us/step - loss: 0.4732 - accuracy: 0.7630\n",
      "Epoch 4/10\n",
      "61875/61875 [==============================] - 20s 326us/step - loss: 0.4591 - accuracy: 0.7731\n",
      "Epoch 5/10\n",
      "61875/61875 [==============================] - 19s 310us/step - loss: 0.4507 - accuracy: 0.7796\n",
      "Epoch 6/10\n",
      "61875/61875 [==============================] - 26s 413us/step - loss: 0.4451 - accuracy: 0.7840\n",
      "Epoch 7/10\n",
      "61875/61875 [==============================] - 21s 340us/step - loss: 0.4413 - accuracy: 0.7854\n",
      "Epoch 8/10\n",
      "61875/61875 [==============================] - 18s 294us/step - loss: 0.4368 - accuracy: 0.7878\n",
      "Epoch 9/10\n",
      "61875/61875 [==============================] - 20s 322us/step - loss: 0.4346 - accuracy: 0.7873\n",
      "Epoch 10/10\n",
      "61875/61875 [==============================] - 18s 290us/step - loss: 0.4325 - accuracy: 0.7918\n",
      "Fold #4: 0.82496\n",
      "\n",
      "Cross Validation done:\n",
      "[0.788928 0.786048 0.788032 0.82496 ]\n",
      "AVG: 0.7969919999999999\n",
      "STD: 0.01618092902153646\n"
     ]
    }
   ],
   "source": [
    "from naive_cnn_model import NaiveCnnModel\n",
    "model = NaiveCnnModel()\n",
    "\n",
    "cross_validate(model, 4, X, Y)"
   ]
  },
  {
   "cell_type": "markdown",
   "metadata": {},
   "source": [
    "### SVM Model"
   ]
  },
  {
   "cell_type": "code",
   "execution_count": null,
   "metadata": {},
   "outputs": [],
   "source": [
    "from svm_model import SvmModel\n",
    "model = SvmModel()\n",
    "\n",
    "cross_validate(model, 4, X, Y)"
   ]
  }
 ],
 "metadata": {
  "kernelspec": {
   "display_name": "Python 3",
   "language": "python",
   "name": "python3"
  },
  "language_info": {
   "codemirror_mode": {
    "name": "ipython",
    "version": 3
   },
   "file_extension": ".py",
   "mimetype": "text/x-python",
   "name": "python",
   "nbconvert_exporter": "python",
   "pygments_lexer": "ipython3",
   "version": "3.7.4"
  }
 },
 "nbformat": 4,
 "nbformat_minor": 4
}
