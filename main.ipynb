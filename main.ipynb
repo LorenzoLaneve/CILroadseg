{
 "cells": [
  {
   "cell_type": "markdown",
   "metadata": {},
   "source": [
    "import numpy as np\n",
    "import os\n",
    "from helpers import *\n",
    "from PIL import ImageFile\n",
    "\n",
    "import matplotlib.image as mpimg\n",
    "from keras.preprocessing.image import img_to_array, array_to_img\n",
    "from sklearn.model_selection import train_test_split\n"
   ]
  },
  {
   "cell_type": "markdown",
   "metadata": {},
   "source": [
    "### Load Training Images and Grountruth versions"
   ]
  },
  {
   "cell_type": "code",
   "execution_count": 2,
   "metadata": {},
   "outputs": [
    {
     "name": "stdout",
     "output_type": "stream",
     "text": [
      "Loading 100 images\n",
      "Loading 100 images\n",
      "(100, 400, 400, 3)\n",
      "(100, 400, 400)\n"
     ]
    }
   ],
   "source": [
    "# Load the training set\n",
    "root_dir = \"./training/\"\n",
    "\n",
    "image_dir = root_dir + \"images/\"\n",
    "files = os.listdir(image_dir)\n",
    "n = len(files)\n",
    "print(\"Loading \" + str(n) + \" images\")\n",
    "imgs = [np.asarray(load_image((image_dir + files[i]))) for i in range(n)]\n",
    "imgs = np.array(imgs)\n",
    "gt_dir = root_dir + \"groundtruth/\"\n",
    "print(\"Loading \" + str(n) + \" images\")\n",
    "gt_imgs = [np.asarray(load_image((gt_dir + files[i]))) for i in range(n)]\n",
    "gt_imgs = np.array(gt_imgs)\n",
    "print(imgs.shape)\n",
    "print(gt_imgs.shape)"
   ]
  },
  {
   "cell_type": "markdown",
   "metadata": {},
   "source": [
    "### Train and Validation Split"
   ]
  },
  {
   "cell_type": "code",
   "execution_count": 3,
   "metadata": {},
   "outputs": [
    {
     "name": "stdout",
     "output_type": "stream",
     "text": [
      "(80, 400, 400, 3)\n",
      "(20, 400, 400, 3)\n",
      "(80, 400, 400)\n",
      "(20, 400, 400)\n"
     ]
    }
   ],
   "source": [
    "X_train, X_test, y_train, y_test = train_test_split(imgs, gt_imgs, test_size=0.2)\n",
    "print(X_train.shape)\n",
    "print(X_test.shape)\n",
    "print(y_train.shape)\n",
    "print(y_test.shape)"
   ]
  },
  {
   "cell_type": "markdown",
   "metadata": {},
   "source": [
    "### Run Logistic Regression"
   ]
  },
  {
   "cell_type": "code",
   "execution_count": 4,
   "metadata": {},
   "outputs": [],
   "source": [
    "from logistic_model import LogisticModel\n",
    "lr_model = LogisticModel()"
   ]
  },
  {
   "cell_type": "code",
   "execution_count": 5,
   "metadata": {},
   "outputs": [
    {
     "name": "stdout",
     "output_type": "stream",
     "text": [
      "Training completed\n"
     ]
    },
    {
     "name": "stderr",
     "output_type": "stream",
     "text": [
      "C:\\Users\\neera\\anaconda3\\envs\\tf_gpu\\lib\\site-packages\\sklearn\\linear_model\\_logistic.py:940: ConvergenceWarning: lbfgs failed to converge (status=1):\n",
      "STOP: TOTAL NO. of ITERATIONS REACHED LIMIT.\n",
      "\n",
      "Increase the number of iterations (max_iter) or scale the data as shown in:\n",
      "    https://scikit-learn.org/stable/modules/preprocessing.html\n",
      "Please also refer to the documentation for alternative solver options:\n",
      "    https://scikit-learn.org/stable/modules/linear_model.html#logistic-regression\n",
      "  extra_warning_msg=_LOGISTIC_SOLVER_CONVERGENCE_MSG)\n"
     ]
    }
   ],
   "source": [
    "lr_model.initialize()\n",
    "lr_model.train(y_train, X_train)"
   ]
  },
  {
   "cell_type": "code",
   "execution_count": 6,
   "metadata": {},
   "outputs": [
    {
     "name": "stdout",
     "output_type": "stream",
     "text": [
      "0.76032\n"
     ]
    }
   ],
   "source": [
    "Z = lr_model.classify(X_test)\n",
    "    \n",
    "# Calculate ground-truth labels\n",
    "img_patches_gt = create_patches_gt(y_test, 16, 16)\n",
    "y_real = np.mean(img_patches_gt, axis=(1, 2)) > 0.25\n",
    "print(get_classification_results(y_real, Z)  )\n",
    "\n"
   ]
  },
  {
   "cell_type": "markdown",
   "metadata": {},
   "source": [
    "### Run Naive CNN Model"
   ]
  },
  {
   "cell_type": "code",
   "execution_count": 7,
   "metadata": {},
   "outputs": [],
   "source": [
    "from naive_cnn_model import NaiveCnnModel\n",
    "cnn_model = NaiveCnnModel()"
   ]
  },
  {
   "cell_type": "code",
   "execution_count": 8,
   "metadata": {},
   "outputs": [
    {
     "name": "stdout",
     "output_type": "stream",
     "text": [
      "Initialize cnn\n",
      "Epoch 1/10\n",
      "50000/50000 [==============================] - 21s 420us/step - loss: 0.5382 - accuracy: 0.7478\n",
      "Epoch 2/10\n",
      "50000/50000 [==============================] - 18s 368us/step - loss: 0.5014 - accuracy: 0.7485\n",
      "Epoch 3/10\n",
      "50000/50000 [==============================] - 19s 371us/step - loss: 0.4859 - accuracy: 0.7546\n",
      "Epoch 4/10\n",
      "50000/50000 [==============================] - 19s 375us/step - loss: 0.4783 - accuracy: 0.7579\n",
      "Epoch 5/10\n",
      "50000/50000 [==============================] - 19s 372us/step - loss: 0.4657 - accuracy: 0.7653\n",
      "Epoch 6/10\n",
      "50000/50000 [==============================] - 19s 377us/step - loss: 0.4455 - accuracy: 0.7808\n",
      "Epoch 7/10\n",
      "50000/50000 [==============================] - 19s 377us/step - loss: 0.4372 - accuracy: 0.7867\n",
      "Epoch 8/10\n",
      "50000/50000 [==============================] - 18s 355us/step - loss: 0.4315 - accuracy: 0.7883\n",
      "Epoch 9/10\n",
      "50000/50000 [==============================] - 17s 344us/step - loss: 0.4298 - accuracy: 0.7904\n",
      "Epoch 10/10\n",
      "50000/50000 [==============================] - 18s 363us/step - loss: 0.4263 - accuracy: 0.7921\n",
      "Training completed\n"
     ]
    }
   ],
   "source": [
    "cnn_model.initialize()\n",
    "cnn_model.train(y_train, X_train)"
   ]
  },
  {
   "cell_type": "code",
   "execution_count": 9,
   "metadata": {},
   "outputs": [
    {
     "name": "stdout",
     "output_type": "stream",
     "text": [
      "0.80616\n"
     ]
    }
   ],
   "source": [
    "Z = cnn_model.classify(X_test)\n",
    "img_patches_gt = create_patches_gt(y_test, 16, 16)\n",
    "y_real = np.mean(img_patches_gt, axis=(1, 2)) > 0.25\n",
    "print(get_classification_results(y_real, Z) )"
   ]
  },
  {
   "cell_type": "markdown",
   "metadata": {},
   "source": [
    "### SVM Model"
   ]
  },
  {
   "cell_type": "code",
   "execution_count": 12,
   "metadata": {},
   "outputs": [
    {
     "name": "stdout",
     "output_type": "stream",
     "text": [
      "initialize svm class\n"
     ]
    }
   ],
   "source": [
    "from svm_model import SvmModel\n",
    "svm_model = SvmModel()"
   ]
  },
  {
   "cell_type": "code",
   "execution_count": 13,
   "metadata": {},
   "outputs": [
    {
     "name": "stdout",
     "output_type": "stream",
     "text": [
      "Create SVM Classifier with parameters, gamma= rbf, kernel=rbf, degree=4\n",
      "Training Started\n",
      "Training completed\n"
     ]
    }
   ],
   "source": [
    "svm_model.initialize()\n",
    "svm_model.train(y_train, X_train)"
   ]
  },
  {
   "cell_type": "code",
   "execution_count": 14,
   "metadata": {},
   "outputs": [
    {
     "name": "stdout",
     "output_type": "stream",
     "text": [
      "0.71232\n"
     ]
    }
   ],
   "source": [
    "Z = svm_model.classify(X_test)\n",
    "    \n",
    "# Calculate ground-truth labels\n",
    "img_patches_gt = create_patches_gt(y_test, 16, 16)\n",
    "y_real = np.mean(img_patches_gt, axis=(1, 2)) > 0.25\n",
    "print(get_classification_results(y_real, Z)  )\n",
    "\n"
   ]
  },
  {
   "cell_type": "code",
   "execution_count": null,
   "metadata": {},
   "outputs": [],
   "source": []
  }
 ],
 "metadata": {
  "kernelspec": {
   "display_name": "Python 3",
   "language": "python",
   "name": "python3"
  },
  "language_info": {
   "codemirror_mode": {
    "name": "ipython",
    "version": 3
   },
   "file_extension": ".py",
   "mimetype": "text/x-python",
   "name": "python",
   "nbconvert_exporter": "python",
   "pygments_lexer": "ipython3",
   "version": "3.7.7"
  }
 },
 "nbformat": 4,
 "nbformat_minor": 4
}
